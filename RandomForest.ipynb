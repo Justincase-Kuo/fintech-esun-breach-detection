{
  "nbformat": 4,
  "nbformat_minor": 0,
  "metadata": {
    "colab": {
      "name": "RandomForest.ipynb",
      "provenance": []
    },
    "kernelspec": {
      "name": "python3",
      "display_name": "Python 3"
    },
    "language_info": {
      "name": "python"
    }
  },
  "cells": [
    {
      "cell_type": "code",
      "metadata": {
        "id": "xKnk0VDWhpuA"
      },
      "source": [
        "# from google.colab import drive\n",
        "# import pandas as pd\n",
        "# drive.mount('/content/gdrive') "
      ],
      "execution_count": null,
      "outputs": []
    },
    {
      "cell_type": "markdown",
      "metadata": {
        "id": "r2_raS8lTk84"
      },
      "source": [
        "# 套件"
      ]
    },
    {
      "cell_type": "code",
      "metadata": {
        "id": "1T9AMD1iUx_S",
        "colab": {
          "base_uri": "https://localhost:8080/"
        },
        "outputId": "fb499915-55d7-4dde-c449-562bdd426b5d"
      },
      "source": [
        "from sklearn.model_selection import train_test_split, KFold\n",
        "from sklearn.ensemble import RandomForestClassifier\n",
        "from sklearn.ensemble import RandomForestRegressor\n",
        "from sklearn.metrics import accuracy_score, f1_score, recall_score, precision_score\n",
        "from sklearn import preprocessing\n",
        "from collections import Counter\n",
        "import imblearn\n",
        "from imblearn.under_sampling import RandomUnderSampler\n",
        "\n",
        "import matplotlib.pyplot as plt \n",
        "plt.style.use('fivethirtyeight')\n",
        "import matplotlib.pyplot as plt\n",
        "\n",
        "\n",
        "from sklearn.model_selection import train_test_split,GridSearchCV\n",
        "from sklearn.feature_extraction import DictVectorizer\n",
        "\n",
        "import os\n",
        "import joblib\n",
        "import numpy as np\n",
        "from sklearn.datasets import load_iris"
      ],
      "execution_count": null,
      "outputs": [
        {
          "output_type": "stream",
          "text": [
            "/usr/local/lib/python3.7/dist-packages/sklearn/externals/six.py:31: FutureWarning: The module is deprecated in version 0.21 and will be removed in version 0.23 since we've dropped support for Python 2.7. Please rely on the official version of six (https://pypi.org/project/six/).\n",
            "  \"(https://pypi.org/project/six/).\", FutureWarning)\n",
            "/usr/local/lib/python3.7/dist-packages/sklearn/utils/deprecation.py:144: FutureWarning: The sklearn.neighbors.base module is  deprecated in version 0.22 and will be removed in version 0.24. The corresponding classes / functions should instead be imported from sklearn.neighbors. Anything that cannot be imported from sklearn.neighbors is now part of the private API.\n",
            "  warnings.warn(message, FutureWarning)\n"
          ],
          "name": "stderr"
        }
      ]
    },
    {
      "cell_type": "markdown",
      "metadata": {
        "id": "PHQuC9uHSjgu"
      },
      "source": [
        "# 一些函式"
      ]
    },
    {
      "cell_type": "code",
      "metadata": {
        "id": "73zNjZBtUlY4"
      },
      "source": [
        "def specificity_score(y_true, y_predict):\n",
        "    from sklearn.metrics import confusion_matrix\n",
        "    conf = confusion_matrix(y_true=y_true, y_pred=y_predict)\n",
        "    return conf[0,0]/(conf[0,0]+conf[0, 1])\n",
        "\n",
        "def opt_score(y_true, y_predict):\n",
        "    \n",
        "    target1_pro = 0.919271\n",
        "    target0_pro = 1 - target1_pro\n",
        "    \n",
        "    opt_score = specificity_score(y_true, y_predict)*target1_pro*0.03 - (1-recall_score(y_true, y_predict))*target0_pro\n",
        "    return (opt_score+0.1)*5\n",
        "\n",
        "def opt_score2(y_true, y_predict, x_train):\n",
        "    import numpy as np\n",
        "    y_predict = np.array(y_predict)\n",
        "    pos_index = (y_predict > 0.5).nonzero()\n",
        "    neg_index = (y_predict < 0.5).nonzero()\n",
        "    true_index = (y_true == 1).nonzero()\n",
        "    false_index = (y_true == 0).nonzero()\n",
        "    \n",
        "    # specificity \n",
        "    s_index = np.intersect1d(neg_index, false_index)\n",
        "    s_loss = x_train[s_index,3].sum() # annuty\n",
        "    # (1-recall)\n",
        "    invr_index = np.intersect1d(neg_index, true_index)\n",
        "    invr_loss = x_train[invr_index, 2].sum() # credict\n",
        "    \n",
        "    return (s_loss - invr_loss)/x_train.shape[0]\n",
        "  \n",
        "def plot_confusion_matrix(y_test,result):\n",
        "    plt_title = 'Stock Breach'\n",
        "\n",
        "    from sklearn.metrics import confusion_matrix\n",
        "    confmat = confusion_matrix(y_true=y_test, y_pred=result)\n",
        "    fig, ax = plt.subplots(figsize=(5, 5))\n",
        "    ax.matshow(confmat, cmap=plt.cm.Blues, alpha=0.3)\n",
        "    for i in range(confmat.shape[0]):\n",
        "        for j in range(confmat.shape[1]):\n",
        "            ax.text(x=j, y=i, s=confmat[i, j], va='center', ha='center')\n",
        "\n",
        "    plt.xticks([0, 1], [0, 1])\n",
        "    plt.yticks([0, 1], [0, 1])\n",
        "    plt.xlabel('Predicted Class')\n",
        "    plt.ylabel('Actual Class')\n",
        "    plt.title(plt_title)\n",
        "    plt.tight_layout()\n",
        "    plt.savefig('under_sampling_confusion_matrix.png', transparent = True)\n",
        "    plt.show()\n",
        "\n",
        "\n",
        "    acc = accuracy_score(y_test, result)\n",
        "    f1 = f1_score(y_test, result)\n",
        "    precision = precision_score(y_test, result)\n",
        "    recall = recall_score(y_test, result)\n",
        "    spe = specificity_score(y_test, result)\n",
        "    opt = opt_score(y_test, result)\n",
        "    print('accuracy =', acc)\n",
        "    print('f1_score =', f1)\n",
        "    print('precision =', precision)\n",
        "    print('recall =', recall)\n",
        "    print('specificity =', spe)\n",
        "    print('opt_score =', opt)\n",
        "    print()\n"
      ],
      "execution_count": null,
      "outputs": []
    },
    {
      "cell_type": "markdown",
      "metadata": {
        "id": "2VEsb54nSpO8"
      },
      "source": [
        "# 下載檔案"
      ]
    },
    {
      "cell_type": "code",
      "metadata": {
        "colab": {
          "base_uri": "https://localhost:8080/"
        },
        "id": "QO5qrgzyk185",
        "outputId": "08c0ab4b-2844-430d-dec0-8ed7bbe90534"
      },
      "source": [
        "!gdown --id '1OgPawokX8BE-laTOxmgKAzz9JYO45dRa' --output train.csv\n",
        "!gdown --id '1wCBf0QTnEme4yvrVQez75_CaWtapDbSe' --output test.csv"
      ],
      "execution_count": null,
      "outputs": [
        {
          "output_type": "stream",
          "text": [
            "Downloading...\n",
            "From: https://drive.google.com/uc?id=1OgPawokX8BE-laTOxmgKAzz9JYO45dRa\n",
            "To: /content/train.csv\n",
            "1.77GB [00:13, 130MB/s]\n",
            "Downloading...\n",
            "From: https://drive.google.com/uc?id=1wCBf0QTnEme4yvrVQez75_CaWtapDbSe\n",
            "To: /content/test.csv\n",
            "705MB [00:16, 42.7MB/s]\n"
          ],
          "name": "stdout"
        }
      ]
    },
    {
      "cell_type": "code",
      "metadata": {
        "id": "-7yA4fACRLsy"
      },
      "source": [
        "import numpy as np  \n",
        "import pandas as pd\n",
        "df1 = pd.read_csv(\"/content/train.csv\")\n",
        "df2 = pd.read_csv(\"/content/test.csv\")\n",
        "\n",
        "df1 = df1.drop(columns='Unnamed: 0')\n",
        "df2 = df2.drop(columns='Unnamed: 0')"
      ],
      "execution_count": null,
      "outputs": []
    },
    {
      "cell_type": "code",
      "metadata": {
        "colab": {
          "base_uri": "https://localhost:8080/",
          "height": 289
        },
        "id": "W7cvNJiW_28g",
        "outputId": "cb4282d8-940e-4770-de60-40d73070c6fa"
      },
      "source": [
        "df1.head()"
      ],
      "execution_count": null,
      "outputs": [
        {
          "output_type": "execute_result",
          "data": {
            "text/html": [
              "<div>\n",
              "<style scoped>\n",
              "    .dataframe tbody tr th:only-of-type {\n",
              "        vertical-align: middle;\n",
              "    }\n",
              "\n",
              "    .dataframe tbody tr th {\n",
              "        vertical-align: top;\n",
              "    }\n",
              "\n",
              "    .dataframe thead th {\n",
              "        text-align: right;\n",
              "    }\n",
              "</style>\n",
              "<table border=\"1\" class=\"dataframe\">\n",
              "  <thead>\n",
              "    <tr style=\"text-align: right;\">\n",
              "      <th></th>\n",
              "      <th>BS_CODE</th>\n",
              "      <th>PRICE</th>\n",
              "      <th>STOCKS</th>\n",
              "      <th>ROI</th>\n",
              "      <th>AGE_LEVEL</th>\n",
              "      <th>OPEN_ACCT_YEAR</th>\n",
              "      <th>SOURCE_CODE</th>\n",
              "      <th>BREACH_IND</th>\n",
              "      <th>INVESTMENT_TXN_CODE</th>\n",
              "      <th>BUY_COUNT</th>\n",
              "      <th>SELL_COUNT</th>\n",
              "      <th>NONTXN_COUNT</th>\n",
              "      <th>OPEN_PRICE</th>\n",
              "      <th>MAX_PRICE</th>\n",
              "      <th>MIN_PRICE</th>\n",
              "      <th>CLOSE_PRICE</th>\n",
              "      <th>VOLUME</th>\n",
              "      <th>AMONT</th>\n",
              "      <th>ALPHA</th>\n",
              "      <th>BETA_21D</th>\n",
              "      <th>BETA_65D</th>\n",
              "      <th>BETA_250D</th>\n",
              "      <th>MA_5D</th>\n",
              "      <th>MA_20D</th>\n",
              "      <th>MA_5D_Gap</th>\n",
              "      <th>MA_20D_Gap</th>\n",
              "      <th>MA_5D_RATE</th>\n",
              "      <th>MA_20D_RATE</th>\n",
              "      <th>COST</th>\n",
              "      <th>MARKET_TYPE_CODE_H</th>\n",
              "      <th>MARKET_TYPE_CODE_O</th>\n",
              "      <th>COMMISION_TYPE_CODE_0</th>\n",
              "      <th>COMMISION_TYPE_CODE_1</th>\n",
              "      <th>COMMISION_TYPE_CODE_2</th>\n",
              "      <th>COMMISION_TYPE_CODE_9</th>\n",
              "      <th>COMMISION_TYPE_CODE_A</th>\n",
              "      <th>CAPITAL_TYPE_H</th>\n",
              "      <th>CAPITAL_TYPE_M</th>\n",
              "      <th>CAPITAL_TYPE_S</th>\n",
              "      <th>INDUSTRY_其他</th>\n",
              "      <th>...</th>\n",
              "      <th>INDUSTRY_存託憑證</th>\n",
              "      <th>INDUSTRY_建材營建</th>\n",
              "      <th>INDUSTRY_文化創意</th>\n",
              "      <th>INDUSTRY_橡膠工業</th>\n",
              "      <th>INDUSTRY_水泥工業</th>\n",
              "      <th>INDUSTRY_汽車工業</th>\n",
              "      <th>INDUSTRY_油電燃氣</th>\n",
              "      <th>INDUSTRY_玻璃陶瓷</th>\n",
              "      <th>INDUSTRY_生技醫療</th>\n",
              "      <th>INDUSTRY_紡織纖維</th>\n",
              "      <th>INDUSTRY_航運業</th>\n",
              "      <th>INDUSTRY_觀光事業</th>\n",
              "      <th>INDUSTRY_貿易百貨</th>\n",
              "      <th>INDUSTRY_農業科技</th>\n",
              "      <th>INDUSTRY_造紙工業</th>\n",
              "      <th>INDUSTRY_金融保險</th>\n",
              "      <th>INDUSTRY_鋼鐵工業</th>\n",
              "      <th>INDUSTRY_電器電纜</th>\n",
              "      <th>INDUSTRY_電子–光電</th>\n",
              "      <th>INDUSTRY_電子–其他電子</th>\n",
              "      <th>INDUSTRY_電子–半導體</th>\n",
              "      <th>INDUSTRY_電子–資訊服務</th>\n",
              "      <th>INDUSTRY_電子–通信網路</th>\n",
              "      <th>INDUSTRY_電子–電子通路</th>\n",
              "      <th>INDUSTRY_電子–電子零組件</th>\n",
              "      <th>INDUSTRY_電子–電腦及週邊設備</th>\n",
              "      <th>INDUSTRY_電子商務</th>\n",
              "      <th>INDUSTRY_電機機械</th>\n",
              "      <th>INDUSTRY_食品工業</th>\n",
              "      <th>NUM</th>\n",
              "      <th>BETA_21D_CUMSUM_MEAN</th>\n",
              "      <th>BETA_21D_CUMSUM_GAP</th>\n",
              "      <th>BETA_65D_CUMSUM_MEAN</th>\n",
              "      <th>BETA_65D_CUMSUM_GAP</th>\n",
              "      <th>BETA_250D_CUMSUM_MEAN</th>\n",
              "      <th>BETA_250D_CUMSUM_GAP</th>\n",
              "      <th>COST_CUMSUM_MEAN</th>\n",
              "      <th>COST_CUMSUM_RATE</th>\n",
              "      <th>ALPHA_CUMSUM_MEAN</th>\n",
              "      <th>ALPHA_CUMSUM_GAP</th>\n",
              "    </tr>\n",
              "  </thead>\n",
              "  <tbody>\n",
              "    <tr>\n",
              "      <th>0</th>\n",
              "      <td>1</td>\n",
              "      <td>8.45</td>\n",
              "      <td>1000.0</td>\n",
              "      <td>0.00</td>\n",
              "      <td>4.0</td>\n",
              "      <td>2008.0</td>\n",
              "      <td>1.0</td>\n",
              "      <td>0.0</td>\n",
              "      <td>4.0</td>\n",
              "      <td>450.0</td>\n",
              "      <td>463.0</td>\n",
              "      <td>2.0</td>\n",
              "      <td>8.44</td>\n",
              "      <td>8.53</td>\n",
              "      <td>8.21</td>\n",
              "      <td>8.46</td>\n",
              "      <td>58060.0</td>\n",
              "      <td>485999.0</td>\n",
              "      <td>0.1619</td>\n",
              "      <td>-2.6675</td>\n",
              "      <td>-3.0508</td>\n",
              "      <td>-3.9323</td>\n",
              "      <td>8.460</td>\n",
              "      <td>8.46</td>\n",
              "      <td>0.000</td>\n",
              "      <td>0.0</td>\n",
              "      <td>1.000000</td>\n",
              "      <td>1.0</td>\n",
              "      <td>8450.0</td>\n",
              "      <td>1</td>\n",
              "      <td>0</td>\n",
              "      <td>1</td>\n",
              "      <td>0</td>\n",
              "      <td>0</td>\n",
              "      <td>0</td>\n",
              "      <td>0</td>\n",
              "      <td>0</td>\n",
              "      <td>1</td>\n",
              "      <td>0</td>\n",
              "      <td>0</td>\n",
              "      <td>...</td>\n",
              "      <td>0</td>\n",
              "      <td>0</td>\n",
              "      <td>0</td>\n",
              "      <td>0</td>\n",
              "      <td>0</td>\n",
              "      <td>0</td>\n",
              "      <td>0</td>\n",
              "      <td>0</td>\n",
              "      <td>0</td>\n",
              "      <td>0</td>\n",
              "      <td>0</td>\n",
              "      <td>0</td>\n",
              "      <td>0</td>\n",
              "      <td>0</td>\n",
              "      <td>0</td>\n",
              "      <td>0</td>\n",
              "      <td>0</td>\n",
              "      <td>0</td>\n",
              "      <td>0</td>\n",
              "      <td>0</td>\n",
              "      <td>0</td>\n",
              "      <td>0</td>\n",
              "      <td>0</td>\n",
              "      <td>0</td>\n",
              "      <td>0</td>\n",
              "      <td>0</td>\n",
              "      <td>0</td>\n",
              "      <td>0</td>\n",
              "      <td>0</td>\n",
              "      <td>1</td>\n",
              "      <td>0.000000</td>\n",
              "      <td>2.667500</td>\n",
              "      <td>0.000000</td>\n",
              "      <td>3.050800</td>\n",
              "      <td>0.000000</td>\n",
              "      <td>3.932300</td>\n",
              "      <td>1.0</td>\n",
              "      <td>8450.000000</td>\n",
              "      <td>0.00000</td>\n",
              "      <td>-0.16190</td>\n",
              "    </tr>\n",
              "    <tr>\n",
              "      <th>1</th>\n",
              "      <td>0</td>\n",
              "      <td>32.65</td>\n",
              "      <td>1000.0</td>\n",
              "      <td>2.11</td>\n",
              "      <td>4.0</td>\n",
              "      <td>2008.0</td>\n",
              "      <td>1.0</td>\n",
              "      <td>0.0</td>\n",
              "      <td>4.0</td>\n",
              "      <td>450.0</td>\n",
              "      <td>463.0</td>\n",
              "      <td>2.0</td>\n",
              "      <td>32.65</td>\n",
              "      <td>33.00</td>\n",
              "      <td>31.60</td>\n",
              "      <td>32.60</td>\n",
              "      <td>103.0</td>\n",
              "      <td>3328.0</td>\n",
              "      <td>0.0082</td>\n",
              "      <td>0.4594</td>\n",
              "      <td>0.9848</td>\n",
              "      <td>0.6627</td>\n",
              "      <td>32.020</td>\n",
              "      <td>32.60</td>\n",
              "      <td>-0.580</td>\n",
              "      <td>0.0</td>\n",
              "      <td>0.982209</td>\n",
              "      <td>1.0</td>\n",
              "      <td>32650.0</td>\n",
              "      <td>1</td>\n",
              "      <td>0</td>\n",
              "      <td>1</td>\n",
              "      <td>0</td>\n",
              "      <td>0</td>\n",
              "      <td>0</td>\n",
              "      <td>0</td>\n",
              "      <td>0</td>\n",
              "      <td>1</td>\n",
              "      <td>0</td>\n",
              "      <td>0</td>\n",
              "      <td>...</td>\n",
              "      <td>0</td>\n",
              "      <td>0</td>\n",
              "      <td>0</td>\n",
              "      <td>0</td>\n",
              "      <td>0</td>\n",
              "      <td>0</td>\n",
              "      <td>0</td>\n",
              "      <td>0</td>\n",
              "      <td>1</td>\n",
              "      <td>0</td>\n",
              "      <td>0</td>\n",
              "      <td>0</td>\n",
              "      <td>0</td>\n",
              "      <td>0</td>\n",
              "      <td>0</td>\n",
              "      <td>0</td>\n",
              "      <td>0</td>\n",
              "      <td>0</td>\n",
              "      <td>0</td>\n",
              "      <td>0</td>\n",
              "      <td>0</td>\n",
              "      <td>0</td>\n",
              "      <td>0</td>\n",
              "      <td>0</td>\n",
              "      <td>0</td>\n",
              "      <td>0</td>\n",
              "      <td>0</td>\n",
              "      <td>0</td>\n",
              "      <td>0</td>\n",
              "      <td>1</td>\n",
              "      <td>-2.667500</td>\n",
              "      <td>-3.126900</td>\n",
              "      <td>-3.050800</td>\n",
              "      <td>-4.035600</td>\n",
              "      <td>-3.932300</td>\n",
              "      <td>-4.595000</td>\n",
              "      <td>8450.0</td>\n",
              "      <td>3.863905</td>\n",
              "      <td>0.16190</td>\n",
              "      <td>0.15370</td>\n",
              "    </tr>\n",
              "    <tr>\n",
              "      <th>2</th>\n",
              "      <td>1</td>\n",
              "      <td>7.98</td>\n",
              "      <td>1000.0</td>\n",
              "      <td>0.00</td>\n",
              "      <td>4.0</td>\n",
              "      <td>2008.0</td>\n",
              "      <td>1.0</td>\n",
              "      <td>0.0</td>\n",
              "      <td>4.0</td>\n",
              "      <td>450.0</td>\n",
              "      <td>463.0</td>\n",
              "      <td>2.0</td>\n",
              "      <td>7.96</td>\n",
              "      <td>8.04</td>\n",
              "      <td>7.75</td>\n",
              "      <td>8.00</td>\n",
              "      <td>72234.0</td>\n",
              "      <td>570689.0</td>\n",
              "      <td>0.1629</td>\n",
              "      <td>-2.2013</td>\n",
              "      <td>-2.7284</td>\n",
              "      <td>-3.8907</td>\n",
              "      <td>8.214</td>\n",
              "      <td>8.00</td>\n",
              "      <td>0.214</td>\n",
              "      <td>0.0</td>\n",
              "      <td>1.026750</td>\n",
              "      <td>1.0</td>\n",
              "      <td>7980.0</td>\n",
              "      <td>1</td>\n",
              "      <td>0</td>\n",
              "      <td>1</td>\n",
              "      <td>0</td>\n",
              "      <td>0</td>\n",
              "      <td>0</td>\n",
              "      <td>0</td>\n",
              "      <td>0</td>\n",
              "      <td>1</td>\n",
              "      <td>0</td>\n",
              "      <td>0</td>\n",
              "      <td>...</td>\n",
              "      <td>0</td>\n",
              "      <td>0</td>\n",
              "      <td>0</td>\n",
              "      <td>0</td>\n",
              "      <td>0</td>\n",
              "      <td>0</td>\n",
              "      <td>0</td>\n",
              "      <td>0</td>\n",
              "      <td>0</td>\n",
              "      <td>0</td>\n",
              "      <td>0</td>\n",
              "      <td>0</td>\n",
              "      <td>0</td>\n",
              "      <td>0</td>\n",
              "      <td>0</td>\n",
              "      <td>0</td>\n",
              "      <td>0</td>\n",
              "      <td>0</td>\n",
              "      <td>0</td>\n",
              "      <td>0</td>\n",
              "      <td>0</td>\n",
              "      <td>0</td>\n",
              "      <td>0</td>\n",
              "      <td>0</td>\n",
              "      <td>0</td>\n",
              "      <td>0</td>\n",
              "      <td>0</td>\n",
              "      <td>0</td>\n",
              "      <td>0</td>\n",
              "      <td>2</td>\n",
              "      <td>-1.104050</td>\n",
              "      <td>1.097250</td>\n",
              "      <td>-1.033000</td>\n",
              "      <td>1.695400</td>\n",
              "      <td>-1.634800</td>\n",
              "      <td>2.255900</td>\n",
              "      <td>20550.0</td>\n",
              "      <td>0.388321</td>\n",
              "      <td>0.08505</td>\n",
              "      <td>-0.07785</td>\n",
              "    </tr>\n",
              "    <tr>\n",
              "      <th>3</th>\n",
              "      <td>1</td>\n",
              "      <td>15.85</td>\n",
              "      <td>1000.0</td>\n",
              "      <td>0.00</td>\n",
              "      <td>4.0</td>\n",
              "      <td>2008.0</td>\n",
              "      <td>1.0</td>\n",
              "      <td>0.0</td>\n",
              "      <td>4.0</td>\n",
              "      <td>450.0</td>\n",
              "      <td>463.0</td>\n",
              "      <td>2.0</td>\n",
              "      <td>15.90</td>\n",
              "      <td>15.90</td>\n",
              "      <td>15.35</td>\n",
              "      <td>15.75</td>\n",
              "      <td>87.0</td>\n",
              "      <td>1356.0</td>\n",
              "      <td>-0.0416</td>\n",
              "      <td>0.7317</td>\n",
              "      <td>0.2993</td>\n",
              "      <td>0.4642</td>\n",
              "      <td>15.970</td>\n",
              "      <td>15.75</td>\n",
              "      <td>0.220</td>\n",
              "      <td>0.0</td>\n",
              "      <td>1.013968</td>\n",
              "      <td>1.0</td>\n",
              "      <td>15850.0</td>\n",
              "      <td>0</td>\n",
              "      <td>1</td>\n",
              "      <td>1</td>\n",
              "      <td>0</td>\n",
              "      <td>0</td>\n",
              "      <td>0</td>\n",
              "      <td>0</td>\n",
              "      <td>0</td>\n",
              "      <td>0</td>\n",
              "      <td>1</td>\n",
              "      <td>0</td>\n",
              "      <td>...</td>\n",
              "      <td>0</td>\n",
              "      <td>0</td>\n",
              "      <td>0</td>\n",
              "      <td>0</td>\n",
              "      <td>0</td>\n",
              "      <td>0</td>\n",
              "      <td>0</td>\n",
              "      <td>0</td>\n",
              "      <td>1</td>\n",
              "      <td>0</td>\n",
              "      <td>0</td>\n",
              "      <td>0</td>\n",
              "      <td>0</td>\n",
              "      <td>0</td>\n",
              "      <td>0</td>\n",
              "      <td>0</td>\n",
              "      <td>0</td>\n",
              "      <td>0</td>\n",
              "      <td>0</td>\n",
              "      <td>0</td>\n",
              "      <td>0</td>\n",
              "      <td>0</td>\n",
              "      <td>0</td>\n",
              "      <td>0</td>\n",
              "      <td>0</td>\n",
              "      <td>0</td>\n",
              "      <td>0</td>\n",
              "      <td>0</td>\n",
              "      <td>0</td>\n",
              "      <td>3</td>\n",
              "      <td>-1.469800</td>\n",
              "      <td>-2.201500</td>\n",
              "      <td>-1.598133</td>\n",
              "      <td>-1.897433</td>\n",
              "      <td>-2.386767</td>\n",
              "      <td>-2.850967</td>\n",
              "      <td>16360.0</td>\n",
              "      <td>0.968826</td>\n",
              "      <td>0.11100</td>\n",
              "      <td>0.15260</td>\n",
              "    </tr>\n",
              "    <tr>\n",
              "      <th>4</th>\n",
              "      <td>0</td>\n",
              "      <td>15.75</td>\n",
              "      <td>1000.0</td>\n",
              "      <td>-3.37</td>\n",
              "      <td>4.0</td>\n",
              "      <td>2008.0</td>\n",
              "      <td>1.0</td>\n",
              "      <td>0.0</td>\n",
              "      <td>4.0</td>\n",
              "      <td>450.0</td>\n",
              "      <td>463.0</td>\n",
              "      <td>2.0</td>\n",
              "      <td>15.75</td>\n",
              "      <td>15.80</td>\n",
              "      <td>15.30</td>\n",
              "      <td>15.75</td>\n",
              "      <td>43.0</td>\n",
              "      <td>669.0</td>\n",
              "      <td>-0.0366</td>\n",
              "      <td>0.7038</td>\n",
              "      <td>0.2837</td>\n",
              "      <td>0.4624</td>\n",
              "      <td>15.950</td>\n",
              "      <td>15.75</td>\n",
              "      <td>0.200</td>\n",
              "      <td>0.0</td>\n",
              "      <td>1.012698</td>\n",
              "      <td>1.0</td>\n",
              "      <td>15750.0</td>\n",
              "      <td>0</td>\n",
              "      <td>1</td>\n",
              "      <td>1</td>\n",
              "      <td>0</td>\n",
              "      <td>0</td>\n",
              "      <td>0</td>\n",
              "      <td>0</td>\n",
              "      <td>0</td>\n",
              "      <td>0</td>\n",
              "      <td>1</td>\n",
              "      <td>0</td>\n",
              "      <td>...</td>\n",
              "      <td>0</td>\n",
              "      <td>0</td>\n",
              "      <td>0</td>\n",
              "      <td>0</td>\n",
              "      <td>0</td>\n",
              "      <td>0</td>\n",
              "      <td>0</td>\n",
              "      <td>0</td>\n",
              "      <td>1</td>\n",
              "      <td>0</td>\n",
              "      <td>0</td>\n",
              "      <td>0</td>\n",
              "      <td>0</td>\n",
              "      <td>0</td>\n",
              "      <td>0</td>\n",
              "      <td>0</td>\n",
              "      <td>0</td>\n",
              "      <td>0</td>\n",
              "      <td>0</td>\n",
              "      <td>0</td>\n",
              "      <td>0</td>\n",
              "      <td>0</td>\n",
              "      <td>0</td>\n",
              "      <td>0</td>\n",
              "      <td>0</td>\n",
              "      <td>0</td>\n",
              "      <td>0</td>\n",
              "      <td>0</td>\n",
              "      <td>0</td>\n",
              "      <td>4</td>\n",
              "      <td>-0.919425</td>\n",
              "      <td>-1.623225</td>\n",
              "      <td>-1.123775</td>\n",
              "      <td>-1.407475</td>\n",
              "      <td>-1.674025</td>\n",
              "      <td>-2.136425</td>\n",
              "      <td>16232.5</td>\n",
              "      <td>0.970276</td>\n",
              "      <td>0.07285</td>\n",
              "      <td>0.10945</td>\n",
              "    </tr>\n",
              "  </tbody>\n",
              "</table>\n",
              "<p>5 rows × 82 columns</p>\n",
              "</div>"
            ],
            "text/plain": [
              "   BS_CODE  PRICE  ...  ALPHA_CUMSUM_MEAN  ALPHA_CUMSUM_GAP\n",
              "0        1   8.45  ...            0.00000          -0.16190\n",
              "1        0  32.65  ...            0.16190           0.15370\n",
              "2        1   7.98  ...            0.08505          -0.07785\n",
              "3        1  15.85  ...            0.11100           0.15260\n",
              "4        0  15.75  ...            0.07285           0.10945\n",
              "\n",
              "[5 rows x 82 columns]"
            ]
          },
          "metadata": {
            "tags": []
          },
          "execution_count": 7
        }
      ]
    },
    {
      "cell_type": "markdown",
      "metadata": {
        "id": "rdYmywsFSxV8"
      },
      "source": [
        "# 特徵選擇"
      ]
    },
    {
      "cell_type": "code",
      "metadata": {
        "id": "mRMaCfk17ePC",
        "colab": {
          "base_uri": "https://localhost:8080/"
        },
        "outputId": "5c5526e3-df34-4f80-ffdb-d74521a53121"
      },
      "source": [
        "#feature selection\n",
        "drop_feat = [8,9,10,11,36,37,38,71]+ list(range(40,50)) +[51,59,60,61,65,66] + list(range(71,82))\n",
        "\n",
        "df1 = df1.drop(df1.columns[drop_feat],axis=1)\n",
        "df2 = df2.drop(df2.columns[drop_feat],axis=1)\n",
        "\n",
        "col_name = df1.columns\n",
        "\n",
        "print('The shape of df1 is:', df1.shape)\n",
        "print('The shape of df2 is:', df2.shape)"
      ],
      "execution_count": null,
      "outputs": [
        {
          "output_type": "stream",
          "text": [
            "The shape of df1 is: (3472522, 48)\n",
            "The shape of df2 is: (1439297, 48)\n"
          ],
          "name": "stdout"
        }
      ]
    },
    {
      "cell_type": "code",
      "metadata": {
        "colab": {
          "base_uri": "https://localhost:8080/",
          "height": 260
        },
        "id": "yYDBL8zO4hgR",
        "outputId": "a59c0b0e-a139-4aea-8e9e-1294fd5fd9b2"
      },
      "source": [
        "df1.head()"
      ],
      "execution_count": null,
      "outputs": [
        {
          "output_type": "execute_result",
          "data": {
            "text/html": [
              "<div>\n",
              "<style scoped>\n",
              "    .dataframe tbody tr th:only-of-type {\n",
              "        vertical-align: middle;\n",
              "    }\n",
              "\n",
              "    .dataframe tbody tr th {\n",
              "        vertical-align: top;\n",
              "    }\n",
              "\n",
              "    .dataframe thead th {\n",
              "        text-align: right;\n",
              "    }\n",
              "</style>\n",
              "<table border=\"1\" class=\"dataframe\">\n",
              "  <thead>\n",
              "    <tr style=\"text-align: right;\">\n",
              "      <th></th>\n",
              "      <th>BS_CODE</th>\n",
              "      <th>PRICE</th>\n",
              "      <th>STOCKS</th>\n",
              "      <th>ROI</th>\n",
              "      <th>AGE_LEVEL</th>\n",
              "      <th>OPEN_ACCT_YEAR</th>\n",
              "      <th>SOURCE_CODE</th>\n",
              "      <th>BREACH_IND</th>\n",
              "      <th>OPEN_PRICE</th>\n",
              "      <th>MAX_PRICE</th>\n",
              "      <th>MIN_PRICE</th>\n",
              "      <th>CLOSE_PRICE</th>\n",
              "      <th>VOLUME</th>\n",
              "      <th>AMONT</th>\n",
              "      <th>ALPHA</th>\n",
              "      <th>BETA_21D</th>\n",
              "      <th>BETA_65D</th>\n",
              "      <th>BETA_250D</th>\n",
              "      <th>MA_5D</th>\n",
              "      <th>MA_20D</th>\n",
              "      <th>MA_5D_Gap</th>\n",
              "      <th>MA_20D_Gap</th>\n",
              "      <th>MA_5D_RATE</th>\n",
              "      <th>MA_20D_RATE</th>\n",
              "      <th>COST</th>\n",
              "      <th>MARKET_TYPE_CODE_H</th>\n",
              "      <th>MARKET_TYPE_CODE_O</th>\n",
              "      <th>COMMISION_TYPE_CODE_0</th>\n",
              "      <th>COMMISION_TYPE_CODE_1</th>\n",
              "      <th>COMMISION_TYPE_CODE_2</th>\n",
              "      <th>COMMISION_TYPE_CODE_9</th>\n",
              "      <th>COMMISION_TYPE_CODE_A</th>\n",
              "      <th>INDUSTRY_其他</th>\n",
              "      <th>INDUSTRY_生技醫療</th>\n",
              "      <th>INDUSTRY_航運業</th>\n",
              "      <th>INDUSTRY_觀光事業</th>\n",
              "      <th>INDUSTRY_貿易百貨</th>\n",
              "      <th>INDUSTRY_農業科技</th>\n",
              "      <th>INDUSTRY_造紙工業</th>\n",
              "      <th>INDUSTRY_金融保險</th>\n",
              "      <th>INDUSTRY_鋼鐵工業</th>\n",
              "      <th>INDUSTRY_電子–半導體</th>\n",
              "      <th>INDUSTRY_電子–資訊服務</th>\n",
              "      <th>INDUSTRY_電子–通信網路</th>\n",
              "      <th>INDUSTRY_電子–電腦及週邊設備</th>\n",
              "      <th>INDUSTRY_電子商務</th>\n",
              "      <th>INDUSTRY_電機機械</th>\n",
              "      <th>INDUSTRY_食品工業</th>\n",
              "    </tr>\n",
              "  </thead>\n",
              "  <tbody>\n",
              "    <tr>\n",
              "      <th>0</th>\n",
              "      <td>1</td>\n",
              "      <td>8.45</td>\n",
              "      <td>1000.0</td>\n",
              "      <td>0.00</td>\n",
              "      <td>4.0</td>\n",
              "      <td>2008.0</td>\n",
              "      <td>1.0</td>\n",
              "      <td>0.0</td>\n",
              "      <td>8.44</td>\n",
              "      <td>8.53</td>\n",
              "      <td>8.21</td>\n",
              "      <td>8.46</td>\n",
              "      <td>58060.0</td>\n",
              "      <td>485999.0</td>\n",
              "      <td>0.1619</td>\n",
              "      <td>-2.6675</td>\n",
              "      <td>-3.0508</td>\n",
              "      <td>-3.9323</td>\n",
              "      <td>8.460</td>\n",
              "      <td>8.46</td>\n",
              "      <td>0.000</td>\n",
              "      <td>0.0</td>\n",
              "      <td>1.000000</td>\n",
              "      <td>1.0</td>\n",
              "      <td>8450.0</td>\n",
              "      <td>1</td>\n",
              "      <td>0</td>\n",
              "      <td>1</td>\n",
              "      <td>0</td>\n",
              "      <td>0</td>\n",
              "      <td>0</td>\n",
              "      <td>0</td>\n",
              "      <td>0</td>\n",
              "      <td>0</td>\n",
              "      <td>0</td>\n",
              "      <td>0</td>\n",
              "      <td>0</td>\n",
              "      <td>0</td>\n",
              "      <td>0</td>\n",
              "      <td>0</td>\n",
              "      <td>0</td>\n",
              "      <td>0</td>\n",
              "      <td>0</td>\n",
              "      <td>0</td>\n",
              "      <td>0</td>\n",
              "      <td>0</td>\n",
              "      <td>0</td>\n",
              "      <td>0</td>\n",
              "    </tr>\n",
              "    <tr>\n",
              "      <th>1</th>\n",
              "      <td>0</td>\n",
              "      <td>32.65</td>\n",
              "      <td>1000.0</td>\n",
              "      <td>2.11</td>\n",
              "      <td>4.0</td>\n",
              "      <td>2008.0</td>\n",
              "      <td>1.0</td>\n",
              "      <td>0.0</td>\n",
              "      <td>32.65</td>\n",
              "      <td>33.00</td>\n",
              "      <td>31.60</td>\n",
              "      <td>32.60</td>\n",
              "      <td>103.0</td>\n",
              "      <td>3328.0</td>\n",
              "      <td>0.0082</td>\n",
              "      <td>0.4594</td>\n",
              "      <td>0.9848</td>\n",
              "      <td>0.6627</td>\n",
              "      <td>32.020</td>\n",
              "      <td>32.60</td>\n",
              "      <td>-0.580</td>\n",
              "      <td>0.0</td>\n",
              "      <td>0.982209</td>\n",
              "      <td>1.0</td>\n",
              "      <td>32650.0</td>\n",
              "      <td>1</td>\n",
              "      <td>0</td>\n",
              "      <td>1</td>\n",
              "      <td>0</td>\n",
              "      <td>0</td>\n",
              "      <td>0</td>\n",
              "      <td>0</td>\n",
              "      <td>0</td>\n",
              "      <td>1</td>\n",
              "      <td>0</td>\n",
              "      <td>0</td>\n",
              "      <td>0</td>\n",
              "      <td>0</td>\n",
              "      <td>0</td>\n",
              "      <td>0</td>\n",
              "      <td>0</td>\n",
              "      <td>0</td>\n",
              "      <td>0</td>\n",
              "      <td>0</td>\n",
              "      <td>0</td>\n",
              "      <td>0</td>\n",
              "      <td>0</td>\n",
              "      <td>0</td>\n",
              "    </tr>\n",
              "    <tr>\n",
              "      <th>2</th>\n",
              "      <td>1</td>\n",
              "      <td>7.98</td>\n",
              "      <td>1000.0</td>\n",
              "      <td>0.00</td>\n",
              "      <td>4.0</td>\n",
              "      <td>2008.0</td>\n",
              "      <td>1.0</td>\n",
              "      <td>0.0</td>\n",
              "      <td>7.96</td>\n",
              "      <td>8.04</td>\n",
              "      <td>7.75</td>\n",
              "      <td>8.00</td>\n",
              "      <td>72234.0</td>\n",
              "      <td>570689.0</td>\n",
              "      <td>0.1629</td>\n",
              "      <td>-2.2013</td>\n",
              "      <td>-2.7284</td>\n",
              "      <td>-3.8907</td>\n",
              "      <td>8.214</td>\n",
              "      <td>8.00</td>\n",
              "      <td>0.214</td>\n",
              "      <td>0.0</td>\n",
              "      <td>1.026750</td>\n",
              "      <td>1.0</td>\n",
              "      <td>7980.0</td>\n",
              "      <td>1</td>\n",
              "      <td>0</td>\n",
              "      <td>1</td>\n",
              "      <td>0</td>\n",
              "      <td>0</td>\n",
              "      <td>0</td>\n",
              "      <td>0</td>\n",
              "      <td>0</td>\n",
              "      <td>0</td>\n",
              "      <td>0</td>\n",
              "      <td>0</td>\n",
              "      <td>0</td>\n",
              "      <td>0</td>\n",
              "      <td>0</td>\n",
              "      <td>0</td>\n",
              "      <td>0</td>\n",
              "      <td>0</td>\n",
              "      <td>0</td>\n",
              "      <td>0</td>\n",
              "      <td>0</td>\n",
              "      <td>0</td>\n",
              "      <td>0</td>\n",
              "      <td>0</td>\n",
              "    </tr>\n",
              "    <tr>\n",
              "      <th>3</th>\n",
              "      <td>1</td>\n",
              "      <td>15.85</td>\n",
              "      <td>1000.0</td>\n",
              "      <td>0.00</td>\n",
              "      <td>4.0</td>\n",
              "      <td>2008.0</td>\n",
              "      <td>1.0</td>\n",
              "      <td>0.0</td>\n",
              "      <td>15.90</td>\n",
              "      <td>15.90</td>\n",
              "      <td>15.35</td>\n",
              "      <td>15.75</td>\n",
              "      <td>87.0</td>\n",
              "      <td>1356.0</td>\n",
              "      <td>-0.0416</td>\n",
              "      <td>0.7317</td>\n",
              "      <td>0.2993</td>\n",
              "      <td>0.4642</td>\n",
              "      <td>15.970</td>\n",
              "      <td>15.75</td>\n",
              "      <td>0.220</td>\n",
              "      <td>0.0</td>\n",
              "      <td>1.013968</td>\n",
              "      <td>1.0</td>\n",
              "      <td>15850.0</td>\n",
              "      <td>0</td>\n",
              "      <td>1</td>\n",
              "      <td>1</td>\n",
              "      <td>0</td>\n",
              "      <td>0</td>\n",
              "      <td>0</td>\n",
              "      <td>0</td>\n",
              "      <td>0</td>\n",
              "      <td>1</td>\n",
              "      <td>0</td>\n",
              "      <td>0</td>\n",
              "      <td>0</td>\n",
              "      <td>0</td>\n",
              "      <td>0</td>\n",
              "      <td>0</td>\n",
              "      <td>0</td>\n",
              "      <td>0</td>\n",
              "      <td>0</td>\n",
              "      <td>0</td>\n",
              "      <td>0</td>\n",
              "      <td>0</td>\n",
              "      <td>0</td>\n",
              "      <td>0</td>\n",
              "    </tr>\n",
              "    <tr>\n",
              "      <th>4</th>\n",
              "      <td>0</td>\n",
              "      <td>15.75</td>\n",
              "      <td>1000.0</td>\n",
              "      <td>-3.37</td>\n",
              "      <td>4.0</td>\n",
              "      <td>2008.0</td>\n",
              "      <td>1.0</td>\n",
              "      <td>0.0</td>\n",
              "      <td>15.75</td>\n",
              "      <td>15.80</td>\n",
              "      <td>15.30</td>\n",
              "      <td>15.75</td>\n",
              "      <td>43.0</td>\n",
              "      <td>669.0</td>\n",
              "      <td>-0.0366</td>\n",
              "      <td>0.7038</td>\n",
              "      <td>0.2837</td>\n",
              "      <td>0.4624</td>\n",
              "      <td>15.950</td>\n",
              "      <td>15.75</td>\n",
              "      <td>0.200</td>\n",
              "      <td>0.0</td>\n",
              "      <td>1.012698</td>\n",
              "      <td>1.0</td>\n",
              "      <td>15750.0</td>\n",
              "      <td>0</td>\n",
              "      <td>1</td>\n",
              "      <td>1</td>\n",
              "      <td>0</td>\n",
              "      <td>0</td>\n",
              "      <td>0</td>\n",
              "      <td>0</td>\n",
              "      <td>0</td>\n",
              "      <td>1</td>\n",
              "      <td>0</td>\n",
              "      <td>0</td>\n",
              "      <td>0</td>\n",
              "      <td>0</td>\n",
              "      <td>0</td>\n",
              "      <td>0</td>\n",
              "      <td>0</td>\n",
              "      <td>0</td>\n",
              "      <td>0</td>\n",
              "      <td>0</td>\n",
              "      <td>0</td>\n",
              "      <td>0</td>\n",
              "      <td>0</td>\n",
              "      <td>0</td>\n",
              "    </tr>\n",
              "  </tbody>\n",
              "</table>\n",
              "</div>"
            ],
            "text/plain": [
              "   BS_CODE  PRICE  STOCKS  ...  INDUSTRY_電子商務  INDUSTRY_電機機械  INDUSTRY_食品工業\n",
              "0        1   8.45  1000.0  ...              0              0              0\n",
              "1        0  32.65  1000.0  ...              0              0              0\n",
              "2        1   7.98  1000.0  ...              0              0              0\n",
              "3        1  15.85  1000.0  ...              0              0              0\n",
              "4        0  15.75  1000.0  ...              0              0              0\n",
              "\n",
              "[5 rows x 48 columns]"
            ]
          },
          "metadata": {
            "tags": []
          },
          "execution_count": 8
        }
      ]
    },
    {
      "cell_type": "markdown",
      "metadata": {
        "id": "i4wNQhR2S2sf"
      },
      "source": [
        "# 資料處理\n",
        "\n",
        "*   train test split\n",
        "*   undersampling\n",
        "\n"
      ]
    },
    {
      "cell_type": "code",
      "metadata": {
        "id": "UckXFw6nnjbK"
      },
      "source": [
        "def data_process_mix(train,test): \n",
        "    #seperate x y\n",
        "    x_1 = train.drop('BREACH_IND', axis = 1)\n",
        "    # x_1 = preprocessing.scale(x_1) #normalize\n",
        "    y_1 = train['BREACH_IND']\n",
        "\n",
        "    #seperate x y\n",
        "    x_2 = test.drop('BREACH_IND', axis = 1)\n",
        "    # x_2 = preprocessing.scale(x_2) #normalize\n",
        "    y_2 = test['BREACH_IND']\n",
        "\n",
        "    #Undersampling of data1\n",
        "    print(\"Before undersampling: \", Counter(y_1))\n",
        "    undersample = RandomUnderSampler(sampling_strategy = 0.0001)\n",
        "    x_under_train, y_under_train = undersample.fit_resample(x_1, y_1)\n",
        "    print(\"After undersampling: \", Counter(y_under_train))\n",
        "\n",
        "    #Undersampling of data2\n",
        "    print(\"Before undersampling: \", Counter(y_2))\n",
        "    undersample = RandomUnderSampler(sampling_strategy = 0.0001)\n",
        "    x_under_test, y_under_test = undersample.fit_resample(x_2, y_2)\n",
        "    print(\"After undersampling: \", Counter(y_under_test))\n",
        "    print(\"After undersampling: \", x_under_test.size)\n",
        "\n",
        "    #combine two dataset\n",
        "    x = np.append(x_under_train,x_under_test,axis=0)\n",
        "    y = np.append(y_under_train,y_under_test,axis=0)\n",
        "\n",
        "    #split train test\n",
        "    x_train, x_test, y_train, y_test\\\n",
        "    = train_test_split(x, y, test_size=0.2, random_state=1) \n",
        "\n",
        "    #Validation\n",
        "    x_train, x_val, y_train, y_val\\\n",
        "    = train_test_split(x_train, y_train, test_size=0.25, random_state=1) # 0.25 x 0.8 = 0.2\n",
        "\n",
        "    return x_train,y_train,x_val,y_val,x_test,y_test\n",
        "\n",
        "def data_process_by_year(train,test):\n",
        "  #make train data\n",
        "  x_train = train.drop('BREACH_IND', axis = 1)\n",
        "  x_train = preprocessing.scale(x_train)\n",
        "  y_train = train['BREACH_IND']\n",
        "\n",
        "  #make test data\n",
        "  x_test = test.drop('BREACH_IND',axis=1)\n",
        "  x_test = preprocessing.scale(x_test)\n",
        "  y_test = test['BREACH_IND']\n",
        "\n",
        "  #減少training sample=\n",
        "  undersample = RandomUnderSampler(sampling_strategy = 0.001)\n",
        "  x_train, y_train = undersample.fit_resample(x_train, y_train)\n",
        "\n",
        "  #減少testing sample\n",
        "  undersample = RandomUnderSampler(sampling_strategy = 0.001)\n",
        "  x_test, y_test = undersample.fit_resample(x_test, y_test)\n",
        "\n",
        "  #Validation\n",
        "  x_train, x_val, y_train, y_val\\\n",
        "  = train_test_split(x_train, y_train, test_size=0.25, random_state=1) # 0.25 x 0.8 = 0.2\n",
        "\n",
        "  return x_train, y_train, x_val,  y_val , x_test , y_test\n",
        "\n",
        "# txn_mixed_train.drop(column = ['STOCK_NO', 'CUST_NO', 'DATE'])\n",
        "def basic_process(train,test):\n",
        "    from sklearn.preprocessing import MinMaxScaler\n",
        "    scaler = MinMaxScaler(feature_range=(0,1))\n",
        "\n",
        "    #seperate x y\n",
        "    x_1 = train.drop('BREACH_IND', axis = 1)\n",
        "    x_1 = scaler.fit_transform(x_1)\n",
        "    y_1 = train['BREACH_IND']\n",
        "\n",
        "    #seperate x y\n",
        "    x_2 = test.drop('BREACH_IND', axis = 1)\n",
        "    x_2 = scaler.fit_transform(x_2)\n",
        "    y_2 = test['BREACH_IND']\n",
        "\n",
        "      #Validation\n",
        "    x_train, x_val, y_train, y_val\\\n",
        "    = train_test_split(x_1, y_1, test_size=0.25, random_state=1) # 0.25 x 0.8 = 0.2\n",
        "    \n",
        "    return x_train, y_train, x_val,  y_val , x_2 , y_2"
      ],
      "execution_count": null,
      "outputs": []
    },
    {
      "cell_type": "markdown",
      "metadata": {
        "id": "emiXtyT4Xc4W"
      },
      "source": [
        "# Random Forest Classifier 模型定義"
      ]
    },
    {
      "cell_type": "code",
      "metadata": {
        "id": "NhNdAIrBU5Gp"
      },
      "source": [
        "def Random_Forest_Train(x_train,y_train,x_val,y_val):\n",
        "\n",
        "    # x_train, y_train = x_train.to(device), y_train.to(device)\n",
        "    n_estimators = range(5,200,10)\n",
        "\n",
        "    accuracies = []\n",
        "    recalls = []\n",
        "    f1s = []\n",
        "    precisions = []\n",
        "    opts = []\n",
        "    specificities = []\n",
        "\n",
        "\n",
        "    for n in n_estimators:\n",
        "        rf_classifier = RandomForestClassifier(n_estimators = int(n))\n",
        "        rf_classifier.fit(x_train, y_train)\n",
        "        prediction = rf_classifier.predict(x_val)\n",
        "        accuracies.append(accuracy_score(y_val, prediction))\n",
        "        recalls.append(recall_score(y_val, prediction))\n",
        "        f1s.append(f1_score(y_val, prediction))\n",
        "        precisions.append(precision_score(y_val, prediction))\n",
        "        opts.append(opt_score2(y_val, prediction, x_val))\n",
        "        specificities.append(specificity_score(y_val, prediction))\n",
        "\n",
        "    result_1 = pd.DataFrame()\n",
        "\n",
        "    i = 0\n",
        "    result_1['Number of Trees'] = list(map(lambda x: int(x), n_estimators))\n",
        "    result_1['Accuracy'] = accuracies\n",
        "    result_1['Precision'] = precisions\n",
        "    result_1['Recall'] = recalls\n",
        "    result_1['F1 Score'] = f1s\n",
        "    result_1['Specificity'] = specificities\n",
        "    result_1['Opt Score'] = opts\n",
        "\n",
        "    display(result_1)\n",
        "\n",
        "    for x in ['Accuracy', 'F1 Score', 'Precision', 'Recall', 'Specificity','Opt Score']:\n",
        "        plt.plot(result_1['Number of Trees'], result_1[x], label = x)\n",
        "    plt.legend()\n",
        "    plt.xscale('log') \n",
        "    plt.xlabel('alpha')\n",
        "    plt.show()\n",
        "\n",
        "def plot_importance(rf_classifier,col_name):\n",
        "  importances = rf_classifier.feature_importances_\n",
        "  indices = np.argsort(importances)#[::-1]\n",
        "\n",
        "  # col_name = x_train.columns\n",
        "\n",
        "  labels = []\n",
        "  gini_im = []\n",
        "  for i in indices[-10:]:\n",
        "      labels.append(col_name[i])\n",
        "      gini_im.append(importances[i])\n",
        "      \n",
        "  plt.rcParams['font.sans-serif'] = ['Microsoft JhengHei'] # 改字體，標題才可以是中文\n",
        "  plt.rcParams['figure.dpi'] = 100\n",
        "  plt.barh(labels, gini_im,)\n",
        "  plt.xlabel('gini importance')\n",
        "  plt.title('Top 20th Important Features')\n",
        "  plt.tight_layout()\n",
        "  plt.savefig('important_features.png', transparent = True)\n",
        "  plt.show()\n",
        "\n",
        "def plot_roc_curve(y_test , probas):\n",
        "\n",
        "  from sklearn.metrics import roc_curve, auc\n",
        "  fpr, tpr, thresholds = roc_curve(y_test,\n",
        "                                  probas[:, 1],\n",
        "                                  pos_label=1)\n",
        "\n",
        "\n",
        "  print('AUC: %f' %(auc(fpr, tpr)))\n",
        "\n",
        "  plt.plot(fpr, tpr, lw=2,\n",
        "          label='Random Forest')\n",
        "      \n",
        "  plt.plot([0, 1],\n",
        "          [0, 1],\n",
        "          linestyle='--',\n",
        "          color='gray',\n",
        "          label='Random guessing')\n",
        "\n",
        "  plt.plot([0, 0, 1],\n",
        "          [0, 1, 1],\n",
        "          linestyle='--',\n",
        "          color='gray',\n",
        "          label='Perfect')\n",
        "\n",
        "  plt.xlim([-0.05, 1.05])\n",
        "  plt.ylim([-0.05, 1.05])\n",
        "  plt.xlabel('FPR')\n",
        "  plt.ylabel('TPR')\n",
        "  plt.title('ROC Curve')\n",
        "  plt.legend(loc=\"lower right\")\n",
        "  plt.tight_layout()\n",
        "  plt.savefig('roc_imb_rf.png', transparent = True)\n",
        "  plt.show()"
      ],
      "execution_count": null,
      "outputs": []
    },
    {
      "cell_type": "code",
      "metadata": {
        "id": "uWp9dQ12tPNc",
        "colab": {
          "base_uri": "https://localhost:8080/",
          "height": 247
        },
        "outputId": "2ac23eb1-47f5-4713-bf2d-2f4bc46c0035"
      },
      "source": [
        "rf_classifier = RandomForestClassifier(n_estimators = 150)\n",
        "rf_classifier.fit(x_train, y_train)\n",
        "\n",
        "result = rf_classifier.predict(x_test)\n",
        "rf_probs = rf_classifier.predict_proba(x_test)\n",
        "y_test = y_test"
      ],
      "execution_count": null,
      "outputs": [
        {
          "output_type": "error",
          "ename": "NameError",
          "evalue": "ignored",
          "traceback": [
            "\u001b[0;31m---------------------------------------------------------------------------\u001b[0m",
            "\u001b[0;31mNameError\u001b[0m                                 Traceback (most recent call last)",
            "\u001b[0;32m<ipython-input-2-7707b733a588>\u001b[0m in \u001b[0;36m<module>\u001b[0;34m()\u001b[0m\n\u001b[0;32m----> 1\u001b[0;31m \u001b[0mrf_classifier\u001b[0m \u001b[0;34m=\u001b[0m \u001b[0mRandomForestClassifier\u001b[0m\u001b[0;34m(\u001b[0m\u001b[0mn_estimators\u001b[0m \u001b[0;34m=\u001b[0m \u001b[0;36m150\u001b[0m\u001b[0;34m)\u001b[0m\u001b[0;34m\u001b[0m\u001b[0;34m\u001b[0m\u001b[0m\n\u001b[0m\u001b[1;32m      2\u001b[0m \u001b[0mrf_classifier\u001b[0m\u001b[0;34m.\u001b[0m\u001b[0mfit\u001b[0m\u001b[0;34m(\u001b[0m\u001b[0mx_train\u001b[0m\u001b[0;34m,\u001b[0m \u001b[0my_train\u001b[0m\u001b[0;34m)\u001b[0m\u001b[0;34m\u001b[0m\u001b[0;34m\u001b[0m\u001b[0m\n\u001b[1;32m      3\u001b[0m \u001b[0;34m\u001b[0m\u001b[0m\n\u001b[1;32m      4\u001b[0m \u001b[0mresult\u001b[0m \u001b[0;34m=\u001b[0m \u001b[0mrf_classifier\u001b[0m\u001b[0;34m.\u001b[0m\u001b[0mpredict\u001b[0m\u001b[0;34m(\u001b[0m\u001b[0mx_test\u001b[0m\u001b[0;34m)\u001b[0m\u001b[0;34m\u001b[0m\u001b[0;34m\u001b[0m\u001b[0m\n\u001b[1;32m      5\u001b[0m \u001b[0mrf_probs\u001b[0m \u001b[0;34m=\u001b[0m \u001b[0mrf_classifier\u001b[0m\u001b[0;34m.\u001b[0m\u001b[0mpredict_proba\u001b[0m\u001b[0;34m(\u001b[0m\u001b[0mx_test\u001b[0m\u001b[0;34m)\u001b[0m\u001b[0;34m\u001b[0m\u001b[0;34m\u001b[0m\u001b[0m\n",
            "\u001b[0;31mNameError\u001b[0m: name 'RandomForestClassifier' is not defined"
          ]
        }
      ]
    },
    {
      "cell_type": "code",
      "metadata": {
        "id": "5a-e_3Vv3BbD"
      },
      "source": [
        "plot_confusion_matrix(y_test,result)\n",
        "plot_importance(rf_classifier,col_name)\n",
        "plot_roc_curve(y_test,rf_probs)\n"
      ],
      "execution_count": null,
      "outputs": []
    },
    {
      "cell_type": "code",
      "metadata": {
        "id": "YSNmsx-1KzGD"
      },
      "source": [
        "type(col_name)\n",
        "col_name"
      ],
      "execution_count": null,
      "outputs": []
    },
    {
      "cell_type": "code",
      "metadata": {
        "id": "rCrvMcbdDPNH"
      },
      "source": [
        "from sklearn.ensemble import RandomForestClassifier\n",
        "# New random forest with only the two most important variables\n",
        "rf_most_important = RandomForestClassifier(n_estimators= 100, random_state=42)\n",
        "\n",
        "# Extract the two most important features\n",
        "important_indices = [1,20] #1,2,9,10,11,12,13,15,20\n",
        "train_important = x_train[:, important_indices]\n",
        "test_important = x_test[:, important_indices]\n",
        "\n",
        "# Train the random forest\n",
        "rf_most_important.fit(train_important, y_train)\n",
        "\n",
        "# Make predictions and determine the error\n",
        "predictions = rf_most_important.predict(test_important)\n",
        "errors = abs(predictions - y_test)\n",
        "\n",
        "# Display the performance metrics\n",
        "print('Mean Absolute Error:', round(np.mean(errors), 2), 'degrees.')"
      ],
      "execution_count": null,
      "outputs": []
    },
    {
      "cell_type": "code",
      "metadata": {
        "id": "jqpdNIraMwS4"
      },
      "source": [
        "plot_confusion_matrix(y_test,predictions)"
      ],
      "execution_count": null,
      "outputs": []
    },
    {
      "cell_type": "code",
      "metadata": {
        "id": "ghZzP3UikxPj"
      },
      "source": [
        "#plot roc curve\n",
        "rf_probs = rf_classifier.predict_proba(x_test)\n",
        "plot_roc_curve(y_test, rf_probs)"
      ],
      "execution_count": null,
      "outputs": []
    },
    {
      "cell_type": "code",
      "metadata": {
        "id": "FjbtiY6eDG4g"
      },
      "source": [
        "# Get numerical feature importances\n",
        "importances = list(rf.feature_importances_)\n",
        "\n",
        "feature_importances = [(df, round(importance, 2)) for df, importance in zip(df_list, importances)]\n",
        "\n",
        "feature_importances = sorted(feature_importances, key = lambda x: x[1], reverse = True)\n",
        "\n",
        "[print('Variable: {:20} Importance: {}'.format(*pair)) for pair in feature_importances];"
      ],
      "execution_count": null,
      "outputs": []
    },
    {
      "cell_type": "code",
      "metadata": {
        "id": "qwdIXuhnDL0N"
      },
      "source": [
        "import matplotlib.pyplot as plt\n",
        "%matplotlib inline\n",
        "\n",
        "plt.style.use('fivethirtyeight')\n",
        "x_values = list(range(len(importances)))\n",
        "plt.bar(x_values, importances, orientation = 'vertical')\n",
        "plt.xticks(x_values, df_list, rotation='vertical')\n",
        "plt.ylabel('Importance'); plt.xlabel('Variable'); plt.title('Variable Importances');"
      ],
      "execution_count": null,
      "outputs": []
    },
    {
      "cell_type": "markdown",
      "metadata": {
        "id": "EgM6zZuHBDZw"
      },
      "source": [
        "# 區分新手老手"
      ]
    },
    {
      "cell_type": "markdown",
      "metadata": {
        "id": "1u9vaol4iikP"
      },
      "source": [
        "# 下載資料"
      ]
    },
    {
      "cell_type": "code",
      "metadata": {
        "id": "NRQ-59xxib-x"
      },
      "source": [
        "!gdown --id '1OgPawokX8BE-laTOxmgKAzz9JYO45dRa' --output train.csv\n",
        "!gdown --id '1wCBf0QTnEme4yvrVQez75_CaWtapDbSe' --output test.csv"
      ],
      "execution_count": null,
      "outputs": []
    },
    {
      "cell_type": "code",
      "metadata": {
        "id": "Rh_SnPWKBqKT"
      },
      "source": [
        "import numpy as np  \n",
        "import pandas as pd\n",
        "df1 = pd.read_csv(\"/content/train.csv\")\n",
        "df2 = pd.read_csv(\"/content/test.csv\")\n",
        "\n",
        "df1 = df1.drop(columns='Unnamed: 0')\n",
        "df2 = df2.drop(columns='Unnamed: 0')"
      ],
      "execution_count": null,
      "outputs": []
    },
    {
      "cell_type": "markdown",
      "metadata": {
        "id": "9RwKT0ZF_Q5A"
      },
      "source": [
        "# 畫圖"
      ]
    },
    {
      "cell_type": "code",
      "metadata": {
        "id": "Wh72Ut3Xx6ns"
      },
      "source": [
        "data = train['OPEN_ACCT_YEAR'].value_counts()\n",
        "year_group = train.groupby('OPEN_ACCT_YEAR')['BREACH_IND']\n",
        "year_group"
      ],
      "execution_count": null,
      "outputs": []
    },
    {
      "cell_type": "code",
      "metadata": {
        "colab": {
          "base_uri": "https://localhost:8080/"
        },
        "id": "iREONxygzR9v",
        "outputId": "806af50b-8d98-43c1-de70-fb2fbe9b0294"
      },
      "source": [
        "df = pd.DataFrame(data)\n",
        "df['percent']= df['OPEN_ACCT_YEAR']/df['OPEN_ACCT_YEAR'].sum()\n",
        "df = df.iloc[0:11,:]\n",
        "year = df.index\n",
        "year"
      ],
      "execution_count": null,
      "outputs": [
        {
          "output_type": "execute_result",
          "data": {
            "text/plain": [
              "Float64Index([2020.0, 2019.0, 2018.0, 2017.0, 2016.0, 2015.0, 2014.0, 2011.0,\n",
              "              2013.0, 2010.0, 2009.0],\n",
              "             dtype='float64')"
            ]
          },
          "metadata": {
            "tags": []
          },
          "execution_count": 58
        }
      ]
    },
    {
      "cell_type": "code",
      "metadata": {
        "id": "4qa9g_Tyy9Hq"
      },
      "source": [
        "from matplotlib import cm\n",
        "plt.figure(figsize=(8,8))\n",
        "cmap = cm.jet(np.linspace(0, 1, len(year)))\n",
        "plt.barh(year, df['percent'], color=cmap)\n",
        "plt.yticks(year, year)\n",
        "plt.ylabel('year')\n",
        "plt.xlabel('percent')\n",
        "plt.title('OPEN_ACCT_YEAR')\n",
        "plt.show()\n"
      ],
      "execution_count": null,
      "outputs": []
    },
    {
      "cell_type": "markdown",
      "metadata": {
        "id": "nppIn37j_U88"
      },
      "source": [
        "# 區分新手"
      ]
    },
    {
      "cell_type": "code",
      "metadata": {
        "id": "FWIK9Ky5BTDF"
      },
      "source": [
        "df_newbie_train = df1[df1['OPEN_ACCT_YEAR']>2018]\n",
        "df_newbie_test = df2[df2['OPEN_ACCT_YEAR']>2018]\n",
        "\n",
        "df_old_train = df1[df1['OPEN_ACCT_YEAR']<2019]\n",
        "\n",
        "new_train = df_newbie_train\n",
        "new_test = df_newbie_test\n",
        "col_name = new_train.columns"
      ],
      "execution_count": null,
      "outputs": []
    },
    {
      "cell_type": "code",
      "metadata": {
        "id": "RBPXKkTWdfOb"
      },
      "source": [
        "# X = new_train.drop(['BREACH_IND'], axis=1)\n",
        "# X = X.iloc[0,:]\n",
        "# X.to_csv('column.csv')"
      ],
      "execution_count": null,
      "outputs": []
    },
    {
      "cell_type": "code",
      "metadata": {
        "id": "2uwZ17vbB1bq"
      },
      "source": [
        "drop_feat = [8,9,10,11,36,37,38,71]+ list(range(40,50)) +[51,59,60,61,65,66]\n",
        "\n",
        "new_train = new_train.drop(new_train.columns[drop_feat],axis=1)\n",
        "new_test = new_test.drop(new_test.columns[drop_feat],axis=1)\n",
        "test = df2.drop(df2.columns[drop_feat],axis=1)\n",
        "col_name = new_train.columns"
      ],
      "execution_count": null,
      "outputs": []
    },
    {
      "cell_type": "code",
      "metadata": {
        "colab": {
          "base_uri": "https://localhost:8080/"
        },
        "id": "uSKuLa_wC4Sz",
        "outputId": "f92891ed-6880-42a0-c49e-6795319371a8"
      },
      "source": [
        "np.min(new_train['OPEN_ACCT_YEAR'])"
      ],
      "execution_count": null,
      "outputs": [
        {
          "output_type": "execute_result",
          "data": {
            "text/plain": [
              "2019.0"
            ]
          },
          "metadata": {
            "tags": []
          },
          "execution_count": 20
        }
      ]
    },
    {
      "cell_type": "code",
      "metadata": {
        "id": "2yA1DPSv6R5V",
        "colab": {
          "base_uri": "https://localhost:8080/"
        },
        "outputId": "ecde704f-9103-4d5b-cbc5-da060590c23e"
      },
      "source": [
        "#data processing\n",
        "x_train,y_train,x_val,y_val,x_test,y_test = basic_process(new_train,test)\n",
        "print(x_train.shape,y_train.shape,x_val.shape,y_val.shape,x_test.shape,y_test.shape)"
      ],
      "execution_count": null,
      "outputs": [
        {
          "output_type": "stream",
          "text": [
            "(762723, 57) (762723,) (254241, 57) (254241,) (1439297, 57) (1439297,)\n"
          ],
          "name": "stdout"
        }
      ]
    },
    {
      "cell_type": "code",
      "metadata": {
        "colab": {
          "base_uri": "https://localhost:8080/"
        },
        "id": "L411sJ3o30zp",
        "outputId": "06e1555f-5772-4c50-8ccb-08eb979dbab9"
      },
      "source": [
        "x_train,y_train,x_val,y_val,x_test,y_test = data_process_mix(new_train,test)\n",
        "print(x_train.shape,y_train.shape,x_val.shape,y_val.shape,x_test.shape,y_test.shape)"
      ],
      "execution_count": null,
      "outputs": [
        {
          "output_type": "stream",
          "text": [
            "Before undersampling:  Counter({0.0: 1016905, 1.0: 59})\n"
          ],
          "name": "stdout"
        },
        {
          "output_type": "stream",
          "text": [
            "/usr/local/lib/python3.7/dist-packages/sklearn/utils/deprecation.py:87: FutureWarning: Function safe_indexing is deprecated; safe_indexing is deprecated in version 0.22 and will be removed in version 0.24.\n",
            "  warnings.warn(msg, category=FutureWarning)\n"
          ],
          "name": "stderr"
        },
        {
          "output_type": "stream",
          "text": [
            "After undersampling:  Counter({0.0: 590000, 1.0: 59})\n",
            "Before undersampling:  Counter({0.0: 1439263, 1.0: 34})\n"
          ],
          "name": "stdout"
        },
        {
          "output_type": "stream",
          "text": [
            "/usr/local/lib/python3.7/dist-packages/sklearn/utils/deprecation.py:87: FutureWarning: Function safe_indexing is deprecated; safe_indexing is deprecated in version 0.22 and will be removed in version 0.24.\n",
            "  warnings.warn(msg, category=FutureWarning)\n"
          ],
          "name": "stderr"
        },
        {
          "output_type": "stream",
          "text": [
            "After undersampling:  Counter({0.0: 340000, 1.0: 34})\n",
            "After undersampling:  19381938\n",
            "(558055, 57) (558055,) (186019, 57) (186019,) (186019, 57) (186019,)\n"
          ],
          "name": "stdout"
        }
      ]
    },
    {
      "cell_type": "markdown",
      "metadata": {
        "id": "Cz-48H25_bhY"
      },
      "source": [
        "# 開始訓練"
      ]
    },
    {
      "cell_type": "code",
      "metadata": {
        "id": "7nQmiTjqCT4X"
      },
      "source": [
        "#start training\n",
        "Random_Forest_Train(x_train,y_train,x_val,y_val)"
      ],
      "execution_count": null,
      "outputs": []
    },
    {
      "cell_type": "code",
      "metadata": {
        "id": "owT5j4NyR9Qh"
      },
      "source": [
        "rf = RandomForestClassifier()\n",
        "RF_param = {\"n_estimators\":[10,50,100,150,200],\"max_depth\":[5,10,15,20,25]}\n",
        "GSCV = GridSearchCV(rf, param_grid=RF_param, cv=5)\n",
        "GSCV.fit(x_train,y_train)\n",
        "    \n",
        "print(\"accuracy score\",GSCV.score(x_test,y_test))\n",
        "print(\"The best model param :\",GSCV.best_params_)"
      ],
      "execution_count": null,
      "outputs": []
    },
    {
      "cell_type": "code",
      "metadata": {
        "id": "L78rE2Yay60B"
      },
      "source": [
        "rf = RandomForestClassifier(n_estimators=105 , max_depth=10)\n",
        "rf.fit(x_train, y_train)\n",
        "result = rf.predict(x_test)\n",
        "rf_probs = rf.predict_proba(x_test)\n",
        "\n",
        "#save model\n",
        "joblib.dump(rf, \"./random_forest.joblib\")\n",
        "loaded_rf = joblib.load(\"./random_forest.joblib\")"
      ],
      "execution_count": null,
      "outputs": []
    },
    {
      "cell_type": "markdown",
      "metadata": {
        "id": "q3Finlut_gE_"
      },
      "source": [
        "# 各種圖表"
      ]
    },
    {
      "cell_type": "code",
      "metadata": {
        "id": "C8Eb5FxI5x8W",
        "colab": {
          "base_uri": "https://localhost:8080/",
          "height": 1000
        },
        "outputId": "87232d7d-8225-41f1-d8d2-01c3cac4dbc8"
      },
      "source": [
        "plot_confusion_matrix(y_test,result)\n",
        "plot_importance(rf,col_name)\n",
        "plot_roc_curve(y_test, rf_probs)"
      ],
      "execution_count": null,
      "outputs": [
        {
          "output_type": "display_data",
          "data": {
            "image/png": "[encoded data removed]",
            "text/plain": [
              "<Figure size 500x500 with 1 Axes>"
            ]
          },
          "metadata": {
            "tags": []
          }
        },
        {
          "output_type": "stream",
          "text": [
            "accuracy = 0.999865605126358\n",
            "f1_score = 0.13793103448275862\n",
            "precision = 1.0\n",
            "recall = 0.07407407407407407\n",
            "specificity = 1.0\n",
            "opt_score = 0.2641452796296294\n",
            "\n"
          ],
          "name": "stdout"
        },
        {
          "output_type": "stream",
          "text": [
            "/usr/local/lib/python3.7/dist-packages/matplotlib/backends/backend_agg.py:214: RuntimeWarning: Glyph 39135 missing from current font.\n",
            "  font.set_text(s, 0.0, flags=flags)\n",
            "/usr/local/lib/python3.7/dist-packages/matplotlib/backends/backend_agg.py:214: RuntimeWarning: Glyph 21697 missing from current font.\n",
            "  font.set_text(s, 0.0, flags=flags)\n",
            "/usr/local/lib/python3.7/dist-packages/matplotlib/backends/backend_agg.py:214: RuntimeWarning: Glyph 24037 missing from current font.\n",
            "  font.set_text(s, 0.0, flags=flags)\n",
            "/usr/local/lib/python3.7/dist-packages/matplotlib/backends/backend_agg.py:214: RuntimeWarning: Glyph 26989 missing from current font.\n",
            "  font.set_text(s, 0.0, flags=flags)\n",
            "/usr/local/lib/python3.7/dist-packages/matplotlib/backends/backend_agg.py:183: RuntimeWarning: Glyph 39135 missing from current font.\n",
            "  font.set_text(s, 0, flags=flags)\n",
            "/usr/local/lib/python3.7/dist-packages/matplotlib/backends/backend_agg.py:183: RuntimeWarning: Glyph 21697 missing from current font.\n",
            "  font.set_text(s, 0, flags=flags)\n",
            "/usr/local/lib/python3.7/dist-packages/matplotlib/backends/backend_agg.py:183: RuntimeWarning: Glyph 24037 missing from current font.\n",
            "  font.set_text(s, 0, flags=flags)\n",
            "/usr/local/lib/python3.7/dist-packages/matplotlib/backends/backend_agg.py:183: RuntimeWarning: Glyph 26989 missing from current font.\n",
            "  font.set_text(s, 0, flags=flags)\n"
          ],
          "name": "stderr"
        },
        {
          "output_type": "display_data",
          "data": {
            "image/png": "[encoded data removed]",
            "text/plain": [
              "<Figure size 600x400 with 1 Axes>"
            ]
          },
          "metadata": {
            "tags": []
          }
        },
        {
          "output_type": "stream",
          "text": [
            "AUC: 0.866625\n"
          ],
          "name": "stdout"
        },
        {
          "output_type": "display_data",
          "data": {
            "image/png": "[encoded data removed]",
            "text/plain": [
              "<Figure size 600x400 with 1 Axes>"
            ]
          },
          "metadata": {
            "tags": []
          }
        }
      ]
    },
    {
      "cell_type": "code",
      "metadata": {
        "id": "rVZy4NliRZ_w"
      },
      "source": [
        "from sklearn.ensemble import RandomForestClassifier\n",
        "# New random forest with only the two most important variables\n",
        "rf_most_important = RandomForestClassifier(n_estimators= 100, random_state=42)\n",
        "\n",
        "# Extract the two most important features\n",
        "important_indices = [1,20] #1,2,9,10,11,12,13,15,20\n",
        "train_important = x_train[:, important_indices]\n",
        "test_important = x_test[:, important_indices]\n",
        "\n",
        "# Train the random forest\n",
        "rf_most_important.fit(train_important, y_train)\n",
        "\n",
        "# Make predictions and determine the error\n",
        "predictions = rf_most_important.predict(test_important)\n",
        "errors = abs(predictions - y_test)\n",
        "\n",
        "# Display the performance metrics\n",
        "print('Mean Absolute Error:', round(np.mean(errors), 2), 'degrees.')"
      ],
      "execution_count": null,
      "outputs": []
    },
    {
      "cell_type": "code",
      "metadata": {
        "id": "PRwyXQWNtgz6"
      },
      "source": [
        "np.save('my_array', x_test)"
      ],
      "execution_count": null,
      "outputs": []
    },
    {
      "cell_type": "markdown",
      "metadata": {
        "id": "rgYbMg6dV-th"
      },
      "source": [
        "#Predict probability of customer"
      ]
    },
    {
      "cell_type": "code",
      "metadata": {
        "id": "d1khlfHzUGEf",
        "colab": {
          "base_uri": "https://localhost:8080/"
        },
        "outputId": "9aa565cc-c9b8-4425-ede0-84cde240443f"
      },
      "source": [
        "import os\n",
        "import joblib\n",
        "import numpy as np\n",
        "from sklearn.datasets import load_iris\n",
        "from sklearn.ensemble import RandomForestClassifier\n",
        "\n",
        "#input customer info\n",
        "cust_info = x_test[3:4,:]\n",
        "\n",
        "#save model\n",
        "joblib.dump(rf, \"./random_forest.joblib\")\n",
        "loaded_rf = joblib.load(\"./random_forest.joblib\")\n",
        "\n",
        "#call the model\n",
        "test_data_pred = loaded_rf.predict(x_test)\n",
        "cust_pred = loaded_rf.predict(cust_info)"
      ],
      "execution_count": null,
      "outputs": [
        {
          "output_type": "execute_result",
          "data": {
            "text/plain": [
              "array([0.])"
            ]
          },
          "metadata": {
            "tags": []
          },
          "execution_count": 93
        }
      ]
    },
    {
      "cell_type": "code",
      "metadata": {
        "id": "Q5TJYETQoRUW"
      },
      "source": [
        "#get probability from model\n",
        "rf_probs = loaded_rf.predict_proba(x_test)\n",
        "cust_prob = loaded_rf.predict_proba(cust_info)\n",
        "x_1 = rf_probs[:,1].tolist()\n",
        "cust_1 = cust_prob[:,1].tolist()"
      ],
      "execution_count": null,
      "outputs": []
    },
    {
      "cell_type": "code",
      "metadata": {
        "colab": {
          "base_uri": "https://localhost:8080/"
        },
        "id": "ZtA2h-PAn0wi",
        "outputId": "fabad9bb-f979-4fb5-b361-6aa18636c614"
      },
      "source": [
        "# rescale the probability between [0,1]\n",
        "mean = np.mean(x_1)\n",
        "max = np.max(x_1)\n",
        "min = np.min(x_1)\n",
        "\n",
        "def minmax(x,mean,max,min):\n",
        "  x_bar = abs((x-mean) / (max-min))*100\n",
        "  if x_bar<0.5 and x_bar>0.3:\n",
        "    safe = '安全，但須留意'\n",
        "  elif x_bar<0.3 and x_bar>0.1:\n",
        "    safe = '在安全範圍之內'\n",
        "  elif x_bar<0.1 and x_bar>0:\n",
        "    safe = '非常安全'\n",
        "  else:\n",
        "    safe = '有風險！請審慎評估'\n",
        "  return np.round(x_bar,decimals=4), safe\n",
        "\n",
        "prob_breach, safe = minmax(cust_1,mean,max,min)\n",
        "\n",
        "print('您違約的機率是: {}％'.format(prob_breach[0]))\n",
        "print('我們認為您這筆交易{}'.format(safe))\n",
        "max"
      ],
      "execution_count": null,
      "outputs": [
        {
          "output_type": "stream",
          "text": [
            "您違約的機率是: 0.1394％\n",
            "我們認為您這筆交易在安全範圍之內\n"
          ],
          "name": "stdout"
        },
        {
          "output_type": "execute_result",
          "data": {
            "text/plain": [
              "0.82"
            ]
          },
          "metadata": {
            "tags": []
          },
          "execution_count": 117
        }
      ]
    },
    {
      "cell_type": "code",
      "metadata": {
        "colab": {
          "base_uri": "https://localhost:8080/"
        },
        "id": "1oyTtntQJuae",
        "outputId": "8069acef-d6fe-4ba6-d6c5-ab7fbc506e9a"
      },
      "source": [
        "from sklearn.tree import export_graphviz\n",
        "import os\n",
        "\n",
        "for tree_in_forest in rf.estimators_:\n",
        "  export_graphviz(tree_in_forest,\n",
        "                out_file='tree.dot',\n",
        "                feature_names= X.columns,\n",
        "                filled=True,\n",
        "                rounded=True)\n",
        "  \n",
        "\n",
        "# Convert to png\n",
        "from subprocess import call\n",
        "call(['dot', '-Tpng', 'tree.dot', '-o', 'tree.png', '-Gdpi=600'])"
      ],
      "execution_count": null,
      "outputs": [
        {
          "output_type": "execute_result",
          "data": {
            "text/plain": [
              "0"
            ]
          },
          "metadata": {
            "tags": []
          },
          "execution_count": 66
        }
      ]
    },
    {
      "cell_type": "code",
      "metadata": {
        "id": "5IWW427qf5eG"
      },
      "source": [
        "from google.colab import drive\n",
        "drive.mount('/content/drive')"
      ],
      "execution_count": null,
      "outputs": []
    },
    {
      "cell_type": "code",
      "metadata": {
        "colab": {
          "base_uri": "https://localhost:8080/",
          "height": 460
        },
        "id": "U7ovqVMoDo8f",
        "outputId": "ffd1aab0-8c21-4dab-b914-fe031e841644"
      },
      "source": [
        "#plot Precision-Recall curve\n",
        "from sklearn.metrics import average_precision_score, precision_recall_curve\n",
        "from sklearn.metrics import auc, plot_precision_recall_curve\n",
        "y_score =rf_classifier.predict_proba(x_test)[:, 1]\n",
        "average_precision = average_precision_score(y_test, y_score)\n",
        "disp = plot_precision_recall_curve(rf_classifier, x_test, y_test)\n",
        "disp.ax_.set_title('Binary class Precision-Recall curve: '\n",
        "                   'AP={0:0.2f}'.format(average_precision))"
      ],
      "execution_count": null,
      "outputs": [
        {
          "output_type": "execute_result",
          "data": {
            "text/plain": [
              "Text(0.5, 1.0, 'Binary class Precision-Recall curve: AP=0.47')"
            ]
          },
          "metadata": {
            "tags": []
          },
          "execution_count": 34
        },
        {
          "output_type": "display_data",
          "data": {
            "image/png": "[encoded data removed]",
            "text/plain": [
              "<Figure size 600x400 with 1 Axes>"
            ]
          },
          "metadata": {
            "tags": []
          }
        }
      ]
    },
    {
      "cell_type": "code",
      "metadata": {
        "id": "GxHJPHsNEZ28"
      },
      "source": [
        "type(col_name)\n",
        "col_name"
      ],
      "execution_count": null,
      "outputs": []
    },
    {
      "cell_type": "code",
      "metadata": {
        "id": "d6FLQAN3EGYX"
      },
      "source": [
        "from sklearn.ensemble import RandomForestClassifier\n",
        "# New random forest with only the two most important variables\n",
        "rf_most_important = RandomForestClassifier(n_estimators= 150)\n",
        "\n",
        "# Extract the two most important features\n",
        "important_indices = [77,8,26] #\n",
        "train_important = x_train[:, important_indices]\n",
        "test_important = x_test[:, important_indices]\n",
        "\n",
        "# Train the random forest\n",
        "rf_most_important.fit(train_important, y_train)\n",
        "\n",
        "# Make predictions and determine the error\n",
        "predictions = rf_most_important.predict(test_important)\n",
        "errors = abs(predictions - y_test)\n",
        "\n",
        "# Display the performance metrics\n",
        "print('Mean Absolute Error:', round(np.mean(errors), 2), 'degrees.')\n",
        "plot_confusion_matrix(y_test,predictions)"
      ],
      "execution_count": null,
      "outputs": []
    }
  ]
}